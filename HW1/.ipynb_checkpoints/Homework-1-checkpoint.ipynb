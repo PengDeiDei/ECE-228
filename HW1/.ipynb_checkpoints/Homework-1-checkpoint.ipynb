{
 "cells": [
  {
   "cell_type": "markdown",
   "metadata": {},
   "source": [
    "# ECE 288: ML for Physical Applications - Assignment 1: \n",
    "### Instructor: Yuanyuan Shi\n",
    "\n",
    "### Teaching Assistants\n",
    "\n",
    "- Srinivas Rao Daru, [sdaru@ucsd.edu]\n",
    "- Tawaana Gustad Homavazir, [thomavaz@ucsd.edu]\n",
    "- Rohin Garg, [rgarg@ucsd.edu]\n",
    "- Rishabh Jangir, [rjangir@ucsd.edu]\n",
    "\n",
    "## Instructions\n",
    "1. This assignment must be completed individually.  \n",
    "2. All solutions must be written in this notebook\n",
    "3. This notebook contains skeleton code, which should not be modified\n",
    "4. You must submit this notebook exported as a pdf. You must also submit this notebook as an .ipynb file.\n",
    "5. You must submit both files (.pdf and .ipynb) on Gradescope. You must mark each problem on Gradescope in the pdf.\n",
    "\n",
    "## Description\n",
    "\n",
    "In this assignment you will implement a Fully Connected Network and a Convolutional Neural Network in Python and Numpy. Implement the forward and backward pass for each layer as solved for in the theoretical questions above. We will also explore the impact of using momentum with SGD . Observe the difference in performance between the Fully Connected Network and Convolutional Network on the same task. \n",
    "\n",
    "\n",
    "## Dataset\n",
    "The MPIIFaceGaze Dataset contains 213,659 full face images and corresponding ground-truth gaze positions collected from 15 users during everyday laptop use over several months. \n",
    "\n",
    "### Inputs\n",
    "Each full face image is processed to retrieve the images of the two eyes, <em>left</em> and <em>right</em>. For the purposes of this assignment your input is an image formed by the side-by-side stacking of the two eyes. \n",
    "\n",
    "### Output\n",
    "The original dataset contains the 2D and 3D gaze positions corresponding to each full face image. For the purposes of this assignment you have been provided with classification labels that divides the field of view into 4 quadrants where the origin at the center of the field. The label corresponds to the quadrant that the subject is gazing at.\n",
    "\n",
    "<img src=\"images/quadrants.png\" width=300 height=300 />\n",
    "\n",
    "### Objective\n",
    "\n",
    "Your task is to train a set of networks to classify the eye gaze into the 4 quadrants. \n",
    "\n",
    "## Instructions\n",
    "1. Download the dataset from Dataset Google Drive \n",
    "2. Copy and unzip it in the same folder as the .ipynb\n",
    "3. The folder structure must look like \n",
    "    -ECE228-Homeowrk-1/\n",
    "        -utils/\n",
    "        -Homework-1.ipynb\n",
    "        -/datasets/MPIIFaceGaze/\n",
    "            -Image\n",
    "            -Label\n",
    "\n",
    "    \n",
    "### Note: \n",
    "Do not install any additional packages. The TAs will use the same environment as defined in the config file we provide you, so anything that’s not in there by default will probably cause your code to break during grading. Failure to follow any of these instructions will lead to point deductions. "
   ]
  },
  {
   "cell_type": "markdown",
   "metadata": {},
   "source": [
    "# Programming assignments start here"
   ]
  },
  {
   "cell_type": "code",
   "execution_count": 1,
   "metadata": {},
   "outputs": [],
   "source": [
    "# Do not change this code, you should not need any additional imports\n",
    "from utils.solver_gaze import Solver\n",
    "from utils.data_utils import Data\n",
    "import numpy as np\n",
    "import matplotlib.pyplot as plt\n",
    "import cv2\n",
    "np.random.seed(228)"
   ]
  },
  {
   "cell_type": "code",
   "execution_count": 2,
   "metadata": {},
   "outputs": [],
   "source": [
    "%matplotlib inline\n",
    "plt.rcParams['figure.figsize'] = (10.0, 8.0) # set default size of plots\n",
    "plt.rcParams['image.interpolation'] = 'nearest'\n",
    "plt.rcParams['image.cmap'] = 'gray'\n",
    "\n",
    "# for auto-reloading extenrnal modules\n",
    "# see http://stackoverflow.com/questions/1907993/autoreload-of-modules-in-ipython\n",
    "%load_ext autoreload\n",
    "%autoreload 2"
   ]
  },
  {
   "cell_type": "code",
   "execution_count": 3,
   "metadata": {},
   "outputs": [],
   "source": [
    "batch_size = 256\n",
    "dataset_directory = './datasets/MPIIFaceGaze/'"
   ]
  },
  {
   "cell_type": "code",
   "execution_count": 4,
   "metadata": {},
   "outputs": [],
   "source": [
    "def rel_error(x, y):\n",
    "    \"\"\" returns relative error \"\"\"\n",
    "    return np.max(np.abs(x - y) / (np.maximum(1e-8, np.abs(x) + np.abs(y))))\n",
    "\n",
    "def eval_numerical_gradient(f, x, verbose=True, h=0.00001):\n",
    "    \"\"\" \n",
    "      a naive implementation of numerical gradient of f at x \n",
    "      - f should be a function that takes a single argument\n",
    "      - x is the point (numpy array) to evaluate the gradient at\n",
    "    \"\"\" \n",
    "    fx = f(x) # evaluate function value at original point\n",
    "    grad = np.zeros_like(x)\n",
    "    # iterate over all indexes in x\n",
    "    it = np.nditer(x, flags=['multi_index'], op_flags=['readwrite'])\n",
    "    \n",
    "    while not it.finished:\n",
    "        # evaluate function at x+h\n",
    "        ix = it.multi_index\n",
    "        oldval = x[ix]\n",
    "        x[ix] = oldval + h # increment by h\n",
    "        fxph = f(x) # evalute f(x + h)\n",
    "        x[ix] = oldval - h\n",
    "        fxmh = f(x) # evaluate f(x - h)\n",
    "        x[ix] = oldval # restore\n",
    "\n",
    "        # compute the partial derivative with centered formula\n",
    "        grad[ix] = (fxph - fxmh) / (2 * h) # the slope\n",
    "        if verbose:\n",
    "            print(ix, grad[ix])\n",
    "        it.iternext() # step to next dimension\n",
    "    \n",
    "    return grad\n",
    "\n",
    "def eval_numerical_gradient_array(f, x, df, h=1e-5):\n",
    "    \"\"\"\n",
    "    Evaluate a numeric gradient for a function that accepts a numpy\n",
    "    array and returns a numpy array.\n",
    "    \"\"\"\n",
    "    grad = np.zeros_like(x)\n",
    "    it = np.nditer(x, flags=['multi_index'], op_flags=['readwrite'])\n",
    "    while not it.finished:\n",
    "        ix = it.multi_index\n",
    "        oldval = x[ix]\n",
    "        x[ix] = oldval + h\n",
    "        pos = f(x).copy()\n",
    "        x[ix] = oldval - h\n",
    "        neg = f(x).copy()\n",
    "        x[ix] = oldval\n",
    "        \n",
    "        grad[ix] = np.sum((pos - neg) * df) / (2 * h)\n",
    "        it.iternext()\n",
    "    return grad"
   ]
  },
  {
   "cell_type": "code",
   "execution_count": 5,
   "metadata": {},
   "outputs": [
    {
     "name": "stdout",
     "output_type": "stream",
     "text": [
      "Training data shape:  (36, 120)\n",
      "Training labels shape:  1\n"
     ]
    },
    {
     "data": {
      "text/plain": [
       "<matplotlib.image.AxesImage at 0x20d70354e20>"
      ]
     },
     "execution_count": 5,
     "metadata": {},
     "output_type": "execute_result"
    },
    {
     "data": {
      "image/png": "[encoded data removed]",
      "text/plain": [
       "<Figure size 720x576 with 1 Axes>"
      ]
     },
     "metadata": {
      "needs_background": "light"
     },
     "output_type": "display_data"
    }
   ],
   "source": [
    "# Sample data loading for a batch of length 1\n",
    "inputs, labels = next(Data(batch_size=1, dataset_directory=dataset_directory).load_train_data())\n",
    "\n",
    "print('Training data shape: ', inputs[0].shape)\n",
    "print('Training labels shape: ', labels[0])\n",
    "plt.imshow(inputs[0])"
   ]
  },
  {
   "cell_type": "markdown",
   "metadata": {},
   "source": [
    "## Part 1: Fully-connected neural networks (60 points)\n",
    "\n",
    "### Part 1.1: Linear layer and activation functions\n",
    "\n",
    "<font size='4' color='red'>**Task 1.1: Affine layer: foward pass (no for loops are allowed) (3 points).**"
   ]
  },
  {
   "cell_type": "code",
   "execution_count": 6,
   "metadata": {},
   "outputs": [],
   "source": [
    "def fc_forward(x, w, b):\n",
    "    \"\"\"\n",
    "    Computes the forward pass for a fully-connected layer.\n",
    "\n",
    "    The input x has shape (N, d_1, ..., d_k) and contains a minibatch of N\n",
    "    examples, where each example x[i] has shape (d_1, ..., d_k). We will\n",
    "    reshape each input into a vector of dimension D = d_1 * ... * d_k, and\n",
    "    then transform it to an output vector of dimension M.\n",
    "\n",
    "    Inputs:\n",
    "    - x: A numpy array containing input data, of shape (N, d_1, ..., d_k)\n",
    "    - w: A numpy array of weights, of shape (D, M)\n",
    "    - b: A numpy array of biases, of shape (M,)\n",
    "\n",
    "    Returns a tuple of:\n",
    "    - out: output, of shape (N, M)\n",
    "    - cache: (x, w, b)\n",
    "    \"\"\"\n",
    "    N,D = x.shape[0], w.shape[0]\n",
    "    out = None\n",
    "    # TODO: Implement a fully-connected forward pass. Store the result in out. You \n",
    "    # will need to reshape the input into rows.\n",
    "    out = np.dot(x.reshape((N,D)),w) + b\n",
    "    cache = (x, w, b)\n",
    "    return out, cache"
   ]
  },
  {
   "cell_type": "code",
   "execution_count": 7,
   "metadata": {},
   "outputs": [
    {
     "name": "stdout",
     "output_type": "stream",
     "text": [
      "Testing fc_forward function:\n",
      "difference:  2.663519958184904e-08\n"
     ]
    }
   ],
   "source": [
    "# Test the fc_forward function\n",
    "# This is an example auto-grader and try to develop such tests for all later on sub-tasks\n",
    "num_inputs = 1\n",
    "input_shape = (4, 3, 3)\n",
    "output_dim = 10\n",
    "\n",
    "input_size = num_inputs * np.prod(input_shape)\n",
    "weight_size = output_dim * np.prod(input_shape)\n",
    "\n",
    "x = np.linspace(-0.2, 0.2, num=input_size).reshape(num_inputs, *input_shape)\n",
    "w = np.linspace(-0.1, 0.1, num=weight_size).reshape(np.prod(input_shape), output_dim)\n",
    "b = np.linspace(-0.2, 0.2, num=output_dim)\n",
    "\n",
    "out, _ = fc_forward(x, w, b)\n",
    "correct_out = [[0.04735376,\n",
    "                0.0917982,\n",
    "                0.13624265,\n",
    "                0.18068709,\n",
    "                0.22513154,\n",
    "                0.26957598,\n",
    "                0.31402043,\n",
    "                0.35846487,\n",
    "                0.40290932,\n",
    "                0.44735376]]  \n",
    "\n",
    "# Compare your output with ours. The error should be around e-7 or less.\n",
    "print('Testing fc_forward function:')\n",
    "print('difference: ', rel_error(out, correct_out))"
   ]
  },
  {
   "cell_type": "markdown",
   "metadata": {},
   "source": [
    "<font size='4' color='red'>**Task 1.2: Affine layer: backward pass (no for loops are allowed) (5 points).**"
   ]
  },
  {
   "cell_type": "code",
   "execution_count": 30,
   "metadata": {},
   "outputs": [],
   "source": [
    "def fc_backward(dout, cache):\n",
    "    \"\"\"\n",
    "    Computes the backward pass for an affine layer.\n",
    "\n",
    "    Inputs:\n",
    "    - dout: Upstream derivative, of shape (N, M)\n",
    "    - cache: Tuple of:\n",
    "      - x: Input data, of shape (N, d_1, ... d_k)\n",
    "      - w: Weights, of shape (D, M)\n",
    "      - b: Biases, of shape (M,)\n",
    "\n",
    "    Returns a tuple of:\n",
    "    - dx: Gradient with respect to x, of shape (N, d1, ..., d_k)\n",
    "    - dw: Gradient with respect to w, of shape (D, M)\n",
    "    - db: Gradient with respect to b, of shape (M,)\n",
    "    \"\"\"\n",
    "    x, w, b = cache\n",
    "    dx, dw, db = None, None, None\n",
    "    N, D = x.shape[0], w.shape[0]\n",
    "    # TODO: Implement the affine backward pass.\n",
    "    dx = np.dot(dout, w.T).reshape(x.shape)\n",
    "    dw = np.dot(x.reshape((N,D)).T, dout)\n",
    "    db = np.sum(dout, axis = 0)\n",
    "    return dx, dw, db"
   ]
  },
  {
   "cell_type": "code",
   "execution_count": 31,
   "metadata": {},
   "outputs": [
    {
     "name": "stdout",
     "output_type": "stream",
     "text": [
      "Testing fc_backward function:\n",
      "dx error:  1.057662444541783e-09\n",
      "dw error:  1.2381371616015458e-10\n",
      "db error:  4.3199822443612255e-11\n"
     ]
    }
   ],
   "source": [
    "# Test the fc_backward function\n",
    "x = np.random.randn(10, 2, 3)\n",
    "w = np.random.randn(6, 5)\n",
    "b = np.random.randn(5)\n",
    "dout = np.random.randn(10, 5)\n",
    "\n",
    "dx_num = eval_numerical_gradient_array(lambda x: fc_forward(x, w, b)[0], x, dout)\n",
    "dw_num = eval_numerical_gradient_array(lambda w: fc_forward(x, w, b)[0], w, dout)\n",
    "db_num = eval_numerical_gradient_array(lambda b: fc_forward(x, w, b)[0], b, dout)\n",
    "\n",
    "_, cache = fc_forward(x, w, b)\n",
    "dx, dw, db = fc_backward(dout, cache)\n",
    "\n",
    "# The error should be around e-9 or less\n",
    "print('Testing fc_backward function:')\n",
    "print('dx error: ', rel_error(dx_num, dx))\n",
    "print('dw error: ', rel_error(dw_num, dw))\n",
    "print('db error: ', rel_error(db_num, db))"
   ]
  },
  {
   "cell_type": "markdown",
   "metadata": {},
   "source": [
    "<font size='4' color='red'>**Task 1.3: ReLU activation: forward pass (no for loops are allowed) (2 points).**\n",
    "    \n",
    "Implement the forward pass for the ReLU activation function in the `relu_forward` function and test your implementation using the following:"
   ]
  },
  {
   "cell_type": "code",
   "execution_count": 32,
   "metadata": {},
   "outputs": [],
   "source": [
    "def relu_forward(x):\n",
    "    \"\"\"\n",
    "    Computes the forward pass for a layer of rectified linear units (ReLUs).\n",
    "\n",
    "    Input:\n",
    "    - x: Inputs, of any shape\n",
    "\n",
    "    Returns a tuple of:\n",
    "    - out: Output, of the same shape as x\n",
    "    - cache: x\n",
    "    \"\"\"\n",
    "    out = None\n",
    "    \n",
    "    # TODO: Implement the ReLU forward pass.\n",
    "    out = np.maximum(0,x)\n",
    "    \n",
    "    cache = x\n",
    "    return out, cache"
   ]
  },
  {
   "cell_type": "code",
   "execution_count": 33,
   "metadata": {},
   "outputs": [
    {
     "name": "stdout",
     "output_type": "stream",
     "text": [
      "Testing relu_forward function:\n",
      "difference:  4.999999798022158e-08\n"
     ]
    }
   ],
   "source": [
    "# Test the relu_forward function\n",
    "\n",
    "x = np.linspace(-0.5, 0.5, num=12).reshape(3, 4)\n",
    "\n",
    "out, _ = relu_forward(x)\n",
    "correct_out = np.array([[ 0.,          0.,          0.,          0.,        ],\n",
    "                        [ 0.,          0.,          0.04545455,  0.13636364,],\n",
    "                        [ 0.22727273,  0.31818182,  0.40909091,  0.5,       ]])\n",
    "\n",
    "# Compare your output with ours. The error should be on the order of e-8\n",
    "print('Testing relu_forward function:')\n",
    "print('difference: ', rel_error(out, correct_out))"
   ]
  },
  {
   "cell_type": "markdown",
   "metadata": {},
   "source": [
    "<font size='4' color='red'>**Task 1.4: ReLU activation: backward pass (no for loops are allowed) (4 points).**\n",
    "    \n",
    "Now implement the backward pass for the ReLU activation function in the `relu_backward` function and test your implementation using numeric gradient checking:"
   ]
  },
  {
   "cell_type": "code",
   "execution_count": 34,
   "metadata": {},
   "outputs": [],
   "source": [
    "def relu_backward(dout, cache):\n",
    "    \"\"\"\n",
    "    Computes the backward pass for a layer of rectified linear units (ReLUs).\n",
    "\n",
    "    Input:\n",
    "    - dout: Upstream derivatives, of any shape\n",
    "    - cache: Input x, of same shape as dout\n",
    "\n",
    "    Returns:\n",
    "    - dx: Gradient with respect to x\n",
    "    \"\"\"\n",
    "    dx, x = None, cache\n",
    "    \n",
    "    # TODO: Implement the ReLU backward pass.\n",
    "    dx = dout.copy()\n",
    "    dx[x <= 0] = 0\n",
    "    \n",
    "    return dx"
   ]
  },
  {
   "cell_type": "code",
   "execution_count": 35,
   "metadata": {},
   "outputs": [
    {
     "name": "stdout",
     "output_type": "stream",
     "text": [
      "Testing relu_backward function:\n",
      "dx error:  3.275624595460045e-12\n"
     ]
    }
   ],
   "source": [
    "x = np.random.randn(10, 10)\n",
    "dout = np.random.randn(*x.shape)\n",
    "\n",
    "dx_num = eval_numerical_gradient_array(lambda x: relu_forward(x)[0], x, dout)\n",
    "\n",
    "_, cache = relu_forward(x)\n",
    "dx = relu_backward(dout, cache)\n",
    "\n",
    "# The error should be on the order of e-12\n",
    "print('Testing relu_backward function:')\n",
    "print('dx error: ', rel_error(dx_num, dx))"
   ]
  },
  {
   "cell_type": "markdown",
   "metadata": {},
   "source": [
    "<font size='4' color='red'>**Task 1.5: Softmax loss layer (no for loops are allowed) (8 points).**"
   ]
  },
  {
   "cell_type": "code",
   "execution_count": 67,
   "metadata": {},
   "outputs": [],
   "source": [
    "def softmax_loss(x, y):\n",
    "    \"\"\"\n",
    "    Computes the loss and gradient for softmax classification.\n",
    "\n",
    "    Inputs:\n",
    "    - x: Input data, of shape (N, C) where x[i, j] is the score for the jth\n",
    "      class for the ith input.\n",
    "    - y: Vector of labels, of shape (N,) where y[i] is the label for x[i] and\n",
    "      0 <= y[i] < C\n",
    "\n",
    "    Returns a tuple of:\n",
    "    - loss: Scalar giving the loss\n",
    "    - dx: Gradient of the loss with respect to x\n",
    "    \"\"\"    \n",
    "    # TODO: Implement the softmax_loss function,                              \n",
    "    # including the forward and backward passes.\n",
    "    # forward\n",
    "    N, C = x.shape\n",
    "    y_one_hot = np.eye(C)[y]\n",
    "    \n",
    "    scores = x - np.max(x, axis=-1, keepdims=True)  # avoid numeric instability\n",
    "\n",
    "    # Calculate softmax outputs e_i/sum(e_j)\n",
    "    x_softmax = np.exp(scores) / np.sum(np.exp(scores),axis=1,keepdims=True)\n",
    "    \n",
    "    loss = - np.sum(np.sum(y_one_hot * np.log(x_softmax)))\n",
    "    \n",
    "    # Normalize the loss by dividing by the total number of samples N\n",
    "    loss /= N\n",
    "\n",
    "    # backward\n",
    "    dx = x_softmax - y_one_hot\n",
    "    # Normalize the gradient by dividing with the total number of samples N\n",
    "    dx /= N\n",
    "    return loss, dx"
   ]
  },
  {
   "cell_type": "code",
   "execution_count": 68,
   "metadata": {},
   "outputs": [
    {
     "name": "stdout",
     "output_type": "stream",
     "text": [
      "\n",
      "Testing softmax_loss:\n",
      "loss:  2.3026309764021677\n",
      "dx error:  7.289867215410699e-09\n"
     ]
    }
   ],
   "source": [
    "# Let's check your implementation\n",
    "num_classes, num_inputs = 10, 50\n",
    "x = 0.001 * np.random.randn(num_inputs, num_classes)\n",
    "y = np.random.randint(num_classes, size=num_inputs)\n",
    "\n",
    "dx_num = eval_numerical_gradient(lambda x: softmax_loss(x, y)[0], x, verbose=False)\n",
    "loss, dx = softmax_loss(x, y)\n",
    "\n",
    "# Test softmax_loss function. Loss should be close to 2.3 and dx error should be around e-8\n",
    "print('\\nTesting softmax_loss:')\n",
    "print('loss: ', loss)\n",
    "print('dx error: ', rel_error(dx_num, dx))"
   ]
  },
  {
   "cell_type": "code",
   "execution_count": 69,
   "metadata": {},
   "outputs": [],
   "source": [
    "def check_accuracy(model, dataloader, model_forward='loss'):\n",
    "    ''' Check the accuracy of the classification task\n",
    "    model: the model that must be run for the outputs\n",
    "    dataloader: the dataloader for train_data, val_data or test_data\n",
    "    model_forward: flag to decide the function that will be called on the model\n",
    "                   'loss': For the numpy based models\n",
    "                   'forward': For the pytorch based models\n",
    "    '''\n",
    "    y_pred = []\n",
    "    y = []\n",
    "    \n",
    "    if model_forward!='loss':\n",
    "        model.eval()\n",
    "    for batch, (inputs, labels) in enumerate(dataloader, 0):\n",
    "        if model_forward=='loss':\n",
    "            scores = model.loss(inputs)\n",
    "        elif model_forward=='forward':\n",
    "            inputs = torch.tensor(inputs).unsqueeze(1).float()\n",
    "            with torch.no_grad():\n",
    "                scores = model(torch.tensor(inputs)).detach().numpy()\n",
    "        y.append(labels)\n",
    "        y_pred.append(np.argmax(scores, axis=1))\n",
    "        \n",
    "    y_pred = np.hstack(y_pred)\n",
    "    y = np.hstack(y)\n",
    "    acc = np.mean(y_pred == y)\n",
    "\n",
    "    return acc*100"
   ]
  },
  {
   "cell_type": "markdown",
   "metadata": {},
   "source": [
    "### Part 1.2: Fully-Connected Neural Networks\n",
    "\n",
    "<font size='4' color='red'>**Task 1.6: Two-layer network (no for loops are allowed in your implementation) (10 points)**\n",
    "\n",
    "Complete the implementation of the `TwoLayerNet` class. This class will serve as a model for the other networks you will implement in this assignment, so read through it to make sure you understand the API. You can run the cell below to test your implementation."
   ]
  },
  {
   "cell_type": "code",
   "execution_count": 111,
   "metadata": {},
   "outputs": [],
   "source": [
    "class TwoLayerNet(object):\n",
    "    \"\"\"\n",
    "    A two-layer fully-connected neural network with ReLU nonlinearity and\n",
    "    softmax loss that uses a modular layer design. We assume an input dimension\n",
    "    of D, a hidden dimension of H, and perform classification over C classes.\n",
    "\n",
    "    The architecure should be FC - relu - FC - softmax.\n",
    "\n",
    "    Note that this class does not implement gradient descent; instead, it\n",
    "    will interact with a separate Solver object that is responsible for running\n",
    "    optimization.\n",
    "\n",
    "    The learnable parameters of the model are stored in the dictionary\n",
    "    self.params that maps parameter names to numpy arrays.\n",
    "    \"\"\"\n",
    "    \n",
    "    def __init__(self, input_dim=1*36*120, hidden_dim=128, num_classes=4,\n",
    "                 weight_scale=1e-3, reg=0.0):\n",
    "        \n",
    "        \"\"\"\n",
    "        Initialize a new network.\n",
    "\n",
    "        Inputs:\n",
    "        - input_dim: An integer giving the size of the input\n",
    "        - hidden_dim: An integer giving the size of the hidden layer\n",
    "        - num_classes: An integer giving the number of classes to classify\n",
    "        - weight_scale: Scalar giving the standard deviation for random\n",
    "          initialization of the weights.\n",
    "        - reg: Scalar giving L2 regularization strength.\n",
    "        \"\"\"\n",
    "        self.params = {}\n",
    "        self.input_dim = input_dim\n",
    "        self.hidden_dim = hidden_dim\n",
    "        self.num_classes = num_classes\n",
    "        self.weight_scale = weight_scale\n",
    "        self.reg = reg\n",
    "        # TODO: Initialize the weights and biases of the two-layer net.  \n",
    "        # Weights should be initialized from a Gaussian centered at 0.0 with \n",
    "        # standard deviation equal to weight_scale, and biases should be \n",
    "        # initialized to zero. All weights and biases should be stored in the \n",
    "        # dictionary self.params, with first layer weights \n",
    "        # and biases using the keys 'W1' and 'b1' and second layer \n",
    "        # weights and biases using the keys 'W2' and 'b2'.\n",
    "        self.params['W1'] = np.random.normal(0, weight_scale, size = (input_dim, hidden_dim))\n",
    "        self.params['b1'] = np.zeros(hidden_dim)\n",
    "        self.params['W2'] = np.random.normal(0, weight_scale, size = (hidden_dim, num_classes))\n",
    "        self.params['b2'] = np.zeros(num_classes)\n",
    "        \n",
    "\n",
    "    def loss(self, X, y=None):\n",
    "        \"\"\"\n",
    "        Compute loss and gradient for a minibatch of data.\n",
    "\n",
    "        Inputs:\n",
    "        - X: Array of input data of shape (N, d_1, ..., d_k)\n",
    "        - y: Array of labels, of shape (N,). y[i] gives the label for X[i].\n",
    "\n",
    "        Returns:\n",
    "        If y is None, then run a test-time forward pass of the model and return:\n",
    "        - scores: Array of shape (N, C) giving classification scores, where\n",
    "          scores[i, c] is the classification score for X[i] and class c.\n",
    "\n",
    "        If y is not None, then run a training-time forward and backward pass and\n",
    "        return a tuple of:\n",
    "        - loss: Scalar value giving the loss\n",
    "        - grads: Dictionary with the same keys as self.params, mapping parameter\n",
    "          names to gradients of the loss with respect to those parameters.\n",
    "        \"\"\"\n",
    "        scores = None\n",
    "        \n",
    "        # TODO: Implement the forward pass for the two-layer net, computing the \n",
    "        # class scores for X and storing them in the scores variable.\n",
    "        out, first_cache = fc_forward(X, self.params['W1'], self.params['b1'])\n",
    "        scores, second_cache = fc_forward(out, self.params['W2'], self.params['b2'])\n",
    "\n",
    "        # If y is None then we are in test mode so just return scores\n",
    "        if y is None:\n",
    "            return scores\n",
    "\n",
    "        loss, grads = 0, {}\n",
    "        \n",
    "        # TODO: Implement the backward pass for the two-layer net. Store the loss \n",
    "        # in the loss variable and gradients in the grads dictionary. Compute data \n",
    "        # loss using softmax, and make sure that grads[k] holds the gradients for \n",
    "        # self.params[k]. Don't forget to add L2 regularization! \n",
    "        #\n",
    "        # NOTE: To ensure that your implementation matches ours and you pass the \n",
    "        # automated tests, make sure that your L2 regularization includes a factor \n",
    "        # of 0.5 to simplify the expression for the gradient.\n",
    "        \n",
    "        loss, dx2 = softmax_loss(scores, y) \n",
    "        loss += 0.5*self.reg*(np.linalg.norm(self.params['W1'])**2 + \n",
    "                              np.linalg.norm(self.params['W2'])**2)\n",
    "        \n",
    "        dx1, dW2, db2 = fc_backward(dx2, second_cache)\n",
    "        dW2 += self.reg*self.params['W2']\n",
    "        grads['W2'], grads['b2'] = dW2, db2\n",
    "        \n",
    "        dx, dW1, db1 = fc_backward(dx1, first_cache)\n",
    "        dW1 += self.reg*self.params['W1']\n",
    "        grads['W1'], grads['b1'] = dW1, db1\n",
    "        \n",
    "        return loss, grads"
   ]
  },
  {
   "cell_type": "code",
   "execution_count": 112,
   "metadata": {},
   "outputs": [
    {
     "name": "stdout",
     "output_type": "stream",
     "text": [
      "Testing initialization ... \n",
      "Testing test-time forward pass ... \n",
      "Testing training loss (no regularization)\n",
      "Running numeric gradient check with reg =  0.0\n",
      "W1 relative error: 1.52e-08\n",
      "W2 relative error: 3.25e-10\n",
      "b1 relative error: 8.37e-09\n",
      "b2 relative error: 8.99e-11\n",
      "Running numeric gradient check with reg =  0.7\n",
      "W1 relative error: 2.53e-07\n",
      "W2 relative error: 2.85e-08\n",
      "b1 relative error: 1.56e-08\n",
      "b2 relative error: 1.97e-09\n"
     ]
    }
   ],
   "source": [
    "# Let's check your implementation\n",
    "N, D, H, C = 3, 5, 50, 7\n",
    "X = np.random.randn(N, D)\n",
    "y = np.random.randint(C, size=N)\n",
    "\n",
    "std = 1e-3\n",
    "model = TwoLayerNet(input_dim=D, hidden_dim=H, num_classes=C, weight_scale=std)\n",
    "\n",
    "print('Testing initialization ... ')\n",
    "W1_std = abs(model.params['W1'].std() - std)\n",
    "b1 = model.params['b1']\n",
    "W2_std = abs(model.params['W2'].std() - std)\n",
    "b2 = model.params['b2']\n",
    "assert W1_std < std / 10, 'First layer weights do not seem right'\n",
    "assert np.all(b1 == 0), 'First layer biases do not seem right'\n",
    "assert W2_std < std / 10, 'Second layer weights do not seem right'\n",
    "assert np.all(b2 == 0), 'Second layer biases do not seem right'\n",
    "\n",
    "print('Testing test-time forward pass ... ')\n",
    "model.params['W1'] = np.linspace(-0.7, 0.3, num=D*H).reshape(D, H)\n",
    "model.params['b1'] = np.linspace(-0.1, 0.9, num=H)\n",
    "model.params['W2'] = np.linspace(-0.3, 0.4, num=H*C).reshape(H, C)\n",
    "model.params['b2'] = np.linspace(-0.9, 0.1, num=C)\n",
    "X = np.linspace(-5.5, 4.5, num=N*D).reshape(D, N).T\n",
    "scores = model.loss(X)\n",
    "correct_scores = np.asarray(\n",
    "  [[11.53165108,  12.2917344,   13.05181771,  13.81190102,  14.57198434, 15.33206765,  16.09215096],\n",
    "   [12.05769098,  12.74614105,  13.43459113,  14.1230412,   14.81149128, 15.49994135,  16.18839143],\n",
    "   [12.58373087,  13.20054771,  13.81736455,  14.43418138,  15.05099822, 15.66781506,  16.2846319 ]])\n",
    "scores_diff = np.abs(scores - correct_scores).sum()\n",
    "assert scores_diff < 1e-6, 'Problem with test-time forward pass'\n",
    "\n",
    "print('Testing training loss (no regularization)')\n",
    "y = np.asarray([0, 5, 1])\n",
    "loss, grads = model.loss(X, y)\n",
    "correct_loss = 3.4702243556\n",
    "assert abs(loss - correct_loss) < 1e-10, 'Problem with training-time loss'\n",
    "\n",
    "model.reg = 1.0\n",
    "loss, grads = model.loss(X, y)\n",
    "correct_loss = 26.5948426952\n",
    "assert abs(loss - correct_loss) < 1e-10, 'Problem with regularization loss'\n",
    "\n",
    "# Errors should be around e-7 or less\n",
    "for reg in [0.0, 0.7]:\n",
    "  print('Running numeric gradient check with reg = ', reg)\n",
    "  model.reg = reg\n",
    "  loss, grads = model.loss(X, y)\n",
    "\n",
    "  for name in sorted(grads):\n",
    "    f = lambda _: model.loss(X, y)[0]\n",
    "    grad_num = eval_numerical_gradient(f, model.params[name], verbose=False)\n",
    "    print('%s relative error: %.2e' % (name, rel_error(grad_num, grads[name])))"
   ]
  },
  {
   "cell_type": "markdown",
   "metadata": {},
   "source": [
    "<font size='4' color='red'>**Task 1.7: Solver (3 points).**\n",
    "    \n",
    "Following a more modular design, we have split the logic for training models into a separate class.\n",
    "\n",
    "Open the file `utils/solver.py` and read through it to familiarize yourself with the API. After doing so, use a `Solver` instance to train a `TwoLayerNet` that <font color='red'>achieves at least `50%` accuracy on the validation set."
   ]
  },
  {
   "cell_type": "code",
   "execution_count": 114,
   "metadata": {},
   "outputs": [
    {
     "name": "stdout",
     "output_type": "stream",
     "text": [
      "(Epoch 0 Batch 1) loss: 1.537706\n",
      "(Epoch 0 Batch 51) loss: 1.392027\n",
      "(Epoch 0 Batch 101) loss: 1.399371\n",
      "(Epoch 0 Batch 151) loss: 1.337121\n",
      "(Epoch 0 / 10) train acc: 34.731111; val_acc: 31.200000\n",
      "(Epoch 1 Batch 1) loss: 1.386596\n",
      "(Epoch 1 Batch 51) loss: 1.245963\n",
      "(Epoch 1 Batch 101) loss: 1.304185\n",
      "(Epoch 1 Batch 151) loss: 1.272808\n",
      "(Epoch 1 / 10) train acc: 41.895556; val_acc: 38.533333\n",
      "(Epoch 2 Batch 1) loss: 1.250147\n",
      "(Epoch 2 Batch 51) loss: 1.164412\n",
      "(Epoch 2 Batch 101) loss: 1.259390\n",
      "(Epoch 2 Batch 151) loss: 1.237533\n",
      "(Epoch 2 / 10) train acc: 47.360000; val_acc: 45.488889\n",
      "(Epoch 3 Batch 1) loss: 1.170260\n",
      "(Epoch 3 Batch 51) loss: 1.113345\n",
      "(Epoch 3 Batch 101) loss: 1.235789\n",
      "(Epoch 3 Batch 151) loss: 1.215157\n",
      "(Epoch 3 / 10) train acc: 50.655556; val_acc: 49.511111\n",
      "(Epoch 4 Batch 1) loss: 1.118851\n",
      "(Epoch 4 Batch 51) loss: 1.079281\n",
      "(Epoch 4 Batch 101) loss: 1.221098\n",
      "(Epoch 4 Batch 151) loss: 1.199761\n",
      "(Epoch 4 / 10) train acc: 52.666667; val_acc: 51.522222\n",
      "(Epoch 5 Batch 1) loss: 1.083654\n",
      "(Epoch 5 Batch 51) loss: 1.056025\n",
      "(Epoch 5 Batch 101) loss: 1.209584\n",
      "(Epoch 5 Batch 151) loss: 1.188763\n",
      "(Epoch 5 / 10) train acc: 53.957778; val_acc: 52.800000\n",
      "(Epoch 6 Batch 1) loss: 1.058034\n",
      "(Epoch 6 Batch 51) loss: 1.040406\n",
      "(Epoch 6 Batch 101) loss: 1.199036\n",
      "(Epoch 6 Batch 151) loss: 1.180902\n",
      "(Epoch 6 / 10) train acc: 54.820000; val_acc: 53.711111\n",
      "(Epoch 7 Batch 1) loss: 1.038024\n",
      "(Epoch 7 Batch 51) loss: 1.030511\n",
      "(Epoch 7 Batch 101) loss: 1.189156\n",
      "(Epoch 7 Batch 151) loss: 1.175443\n",
      "(Epoch 7 / 10) train acc: 55.457778; val_acc: 54.311111\n",
      "(Epoch 8 Batch 1) loss: 1.021340\n",
      "(Epoch 8 Batch 51) loss: 1.024876\n",
      "(Epoch 8 Batch 101) loss: 1.180371\n",
      "(Epoch 8 Batch 151) loss: 1.171842\n",
      "(Epoch 8 / 10) train acc: 55.822222; val_acc: 54.633333\n",
      "(Epoch 9 Batch 1) loss: 1.006864\n",
      "(Epoch 9 Batch 51) loss: 1.022153\n",
      "(Epoch 9 Batch 101) loss: 1.173067\n",
      "(Epoch 9 Batch 151) loss: 1.169621\n",
      "(Epoch 9 / 10) train acc: 56.197778; val_acc: 54.777778\n"
     ]
    }
   ],
   "source": [
    "model = TwoLayerNet(weight_scale=5e-2)\n",
    "solver = None\n",
    "learning_rate = 1e-3 # TODO: Tune learning rate\n",
    "update_rule = 'sgd'\n",
    "\n",
    "solver = Solver(\n",
    "    model,\n",
    "    update_rule=update_rule,\n",
    "    optim_config={'learning_rate': learning_rate,},\n",
    "    lr_decay=0.8,\n",
    "    dataset_directory=dataset_directory,\n",
    "    num_epochs=10, \n",
    "    batch_size=batch_size,\n",
    "    print_every=50\n",
    ")\n",
    "solver.train()"
   ]
  },
  {
   "cell_type": "code",
   "execution_count": 115,
   "metadata": {},
   "outputs": [
    {
     "data": {
      "image/png": "[encoded data removed]",
      "text/plain": [
       "<Figure size 1080x864 with 2 Axes>"
      ]
     },
     "metadata": {
      "needs_background": "light"
     },
     "output_type": "display_data"
    }
   ],
   "source": [
    "# Run this cell to visualize training loss and train / val accuracy\n",
    "plt.subplot(2, 1, 1)\n",
    "plt.title('Training loss')\n",
    "plt.plot(solver.loss_history, 'o')\n",
    "plt.xlabel('Iteration')\n",
    "\n",
    "plt.subplot(2, 1, 2)\n",
    "plt.title('Accuracy')\n",
    "plt.plot(solver.train_acc_history, '-o', label='train')\n",
    "plt.plot(solver.val_acc_history, '-o', label='val')\n",
    "plt.plot([0.5] * len(solver.val_acc_history), 'k--')\n",
    "plt.xlabel('Epoch')\n",
    "plt.legend(loc='lower right')\n",
    "plt.gcf().set_size_inches(15, 12)\n",
    "plt.show()"
   ]
  },
  {
   "cell_type": "markdown",
   "metadata": {},
   "source": [
    "<font size='4' color='red'>**Task 1.8: Multilayer network (15 points).**\n",
    "    \n",
    "Next you will implement a fully-connected network with an arbitrary number of hidden layers.\n",
    "\n",
    "Implement the initialization, the forward pass, and the backward pass. For the moment don't worry about implementing dropout or batch/layer normalization."
   ]
  },
  {
   "cell_type": "code",
   "execution_count": 303,
   "metadata": {},
   "outputs": [],
   "source": [
    "def fc_relu_forward(x, w, b):\n",
    "    \"\"\"\n",
    "    Convenience layer that perorms an affine transform followed by a ReLU\n",
    "\n",
    "    Inputs:\n",
    "    - x: Input to the affine layer\n",
    "    - w, b: Weights for the affine layer\n",
    "\n",
    "    Returns a tuple of:\n",
    "    - out: Output from the ReLU\n",
    "    - cache: Object to give to the backward pass\n",
    "    \"\"\"\n",
    "    \n",
    "    fc_out, fc_cache = fc_forward(x, w, b) \n",
    "    out, relu_cache = relu_forward(fc_out)\n",
    "    cache = (fc_cache, relu_cache)\n",
    "    return out, cache\n",
    "\n",
    "\n",
    "def fc_relu_backward(dout, cache):\n",
    "    \"\"\"\n",
    "    Backward pass for the affine-relu convenience layer\n",
    "    \"\"\"\n",
    "    fc_cache, relu_cache = cache\n",
    "    \n",
    "    relu_dout = relu_backward(dout,relu_cache)\n",
    "    dx, dw, db= fc_backward(relu_dout, fc_cache)\n",
    "    \n",
    "    return dx, dw, db"
   ]
  },
  {
   "cell_type": "code",
   "execution_count": 304,
   "metadata": {},
   "outputs": [],
   "source": [
    "class FullyConnectedNet(object):\n",
    "    \"\"\"\n",
    "    A fully-connected neural network with an arbitrary number of hidden layers,\n",
    "    ReLU nonlinearities, and a softmax loss function. For a network with L layers,\n",
    "    the architecture will be\n",
    "\n",
    "    {affine - relu} x (L - 1) - affine - softmax\n",
    "\n",
    "    where batch/layer normalization and dropout are optional, and the {...} block is\n",
    "    repeated L - 1 times.\n",
    "\n",
    "    Similar to the TwoLayerNet above, learnable parameters are stored in the\n",
    "    self.params dictionary and will be learned using the Solver class.\n",
    "    \"\"\"\n",
    "    \n",
    "    def __init__(self, hidden_dims, input_dim=1*36*120, num_classes=4, reg=0.0,\n",
    "                 weight_scale=1e-2, seed=None):\n",
    "        \"\"\"\n",
    "        Initialize a new FullyConnectedNet.\n",
    "\n",
    "        Inputs:\n",
    "        - hidden_dims: A list of integers giving the size of each hidden layer.\n",
    "        - input_dim: An integer giving the size of the input.\n",
    "        - num_classes: An integer giving the number of classes to classify.\n",
    "        - reg: Scalar giving L2 regularization strength.\n",
    "        - weight_scale: Scalar giving the standard deviation for random\n",
    "          initialization of the weights.\n",
    "        - dtype: A numpy datatype object; all computations will be performed using\n",
    "          this datatype. float32 is faster but less accurate, so you should use\n",
    "          float64 for numeric gradient checking.\n",
    "        - seed: If not None, then pass this random seed to the dropout layers. This\n",
    "          will make the dropout layers deteriminstic so we can gradient check the\n",
    "          model.\n",
    "        \"\"\"\n",
    "        self.reg = reg\n",
    "        self.num_layers = 1 + len(hidden_dims)\n",
    "        self.params = {}\n",
    "        self.dtype = np.float64\n",
    "        # TODO: Initialize the parameters of the network, storing all values in \n",
    "        # the self.params dictionary. Store weights and biases for the first layer \n",
    "        # in W1 and b1; for the second layer use W2 and b2, etc. Weights should be \n",
    "        # initialized from a normal distribution centered at 0 with standard \n",
    "        # deviation equal to weight_scale. Biases should be initialized to zero.\n",
    "        \n",
    "        for i in range(1,self.num_layers):\n",
    "            if i == 1: # first layer initialization\n",
    "                self.params['W'+str(i)] = np.random.normal(0, weight_scale, size = (input_dim, hidden_dims[i-1]))\n",
    "                self.params['b'+str(i)] = np.zeros(hidden_dims[i-1])\n",
    "            else: # hidden layers initialization\n",
    "                self.params['W'+str(i)] = np.random.normal(0, weight_scale, size = (hidden_dims[i-2],hidden_dims[i-1]))\n",
    "                self.params['b'+str(i)] = np.zeros(hidden_dims[i-1])\n",
    "        \n",
    "        # final layer\n",
    "        self.params['W'+ str(self.num_layers)] = np.random.normal(0, weight_scale, size = (hidden_dims[-1], num_classes))\n",
    "        self.params['b'+ str(self.num_layers)] = np.zeros(num_classes)\n",
    "        \n",
    "        # Cast all parameters to the correct datatype\n",
    "        for k, v in self.params.items():\n",
    "            self.params[k] = v.astype(self.dtype)\n",
    "\n",
    "\n",
    "    def loss(self, X, y=None):\n",
    "        \"\"\"\n",
    "        Compute loss and gradient for the fully-connected net.\n",
    "\n",
    "        Input / output: Same as TwoLayerNet above.\n",
    "        \"\"\"\n",
    "        X = X.astype(self.dtype)\n",
    "        mode = 'test' if y is None else 'train'\n",
    "\n",
    "        scores = None\n",
    "        \n",
    "        # TODO: Implement the forward pass for the fully-connected net, computing \n",
    "        # the class scores for X and storing them in the scores variable.\n",
    "\n",
    "        cache = [None] * (self.num_layers)\n",
    "        for i in range(1,self.num_layers):\n",
    "            if i == 1:\n",
    "                out,cache[i-1] = fc_relu_forward(X,self.params['W'+str(i)],self.params['b'+str(i)])\n",
    "            else:    \n",
    "                out,cache[i-1] = fc_relu_forward(out,self.params['W'+str(i)],self.params['b'+str(i)])    \n",
    "        \n",
    "        scores,cache[-1] = fc_forward(out,self.params['W'+str(self.num_layers)],self.params['b'+str(self.num_layers)])\n",
    "\n",
    "        # If test mode return early\n",
    "        if mode == 'test':\n",
    "            return scores\n",
    "\n",
    "        loss, grads = 0.0, {}\n",
    "        # TODO: Implement the backward pass for the fully-connected net. Store the \n",
    "        # loss in the loss variable and gradients in the grads dictionary. Compute \n",
    "        # data loss using softmax, and make sure that grads[k] holds the gradients \n",
    "        # for self.params[k]. Don't forget to add L2 regularization! \n",
    "        #\n",
    "        # NOTE: To ensure that your implementation matches ours and you pass the \n",
    "        # automated tests, make sure that your L2 regularization includes a factor \n",
    "        # of 0.5 to simplify the expression for the gradient.\n",
    "        loss, dx = softmax_loss(scores, y)\n",
    "\n",
    "        for i in range(1, self.num_layers+1):\n",
    "            loss += 0.5*self.reg*np.linalg.norm(self.params['W'+str(i)])**2\n",
    "            \n",
    "        dx, dw, db = fc_backward(dx,cache[self.num_layers-1])\n",
    "        dw += self.reg * self.params['W'+str(self.num_layers)]\n",
    "        grads['W'+str(self.num_layers)], grads['b'+str(self.num_layers)] = dw, db\n",
    "        \n",
    "        i = self.num_layers - 1\n",
    "        while i > 0:\n",
    "            dx, dw, db = fc_relu_backward(dx, cache[i-1])\n",
    "            dw += self.reg * self.params['W'+str(i)]\n",
    "            grads['W'+str(i)], grads['b'+str(i)] = dw, db\n",
    "            i -= 1\n",
    "            \n",
    "        return loss, grads\n"
   ]
  },
  {
   "cell_type": "code",
   "execution_count": 305,
   "metadata": {},
   "outputs": [
    {
     "name": "stdout",
     "output_type": "stream",
     "text": [
      "Running check with reg =  0\n",
      "Initial loss:  2.3003803003032077\n",
      "W1 relative error: 1.72e-07\n",
      "W2 relative error: 1.26e-06\n",
      "W3 relative error: 8.12e-08\n",
      "b1 relative error: 1.93e-08\n",
      "b2 relative error: 5.02e-09\n",
      "b3 relative error: 8.07e-11\n",
      "Running check with reg =  3.14\n",
      "Initial loss:  6.660009106538036\n",
      "W1 relative error: 9.47e-09\n",
      "W2 relative error: 6.13e-08\n",
      "W3 relative error: 1.33e-07\n",
      "b1 relative error: 9.86e-08\n",
      "b2 relative error: 1.47e-09\n",
      "b3 relative error: 2.38e-10\n"
     ]
    }
   ],
   "source": [
    "N, D, H1, H2, C = 2, 15, 20, 30, 10\n",
    "X = np.random.randn(N, D)\n",
    "y = np.random.randint(C, size=(N,))\n",
    "\n",
    "for reg in [0, 3.14]:\n",
    "    print('Running check with reg = ', reg)\n",
    "    model = FullyConnectedNet(\n",
    "        [H1, H2], \n",
    "        input_dim=D, \n",
    "        num_classes=C,\n",
    "        reg=reg, \n",
    "        weight_scale=5e-2\n",
    "    )\n",
    "\n",
    "    loss, grads = model.loss(X, y)\n",
    "    print('Initial loss: ', loss)\n",
    "  \n",
    "    # Most of the errors should be on the order of 1e-7 or smaller.   \n",
    "    # NOTE: It is fine however to see an error for W2 on the order of 1e-5\n",
    "    # for the check when reg = 0.0\n",
    "    for name in sorted(grads):\n",
    "        f = lambda _: model.loss(X, y)[0]\n",
    "        grad_num = eval_numerical_gradient(f, model.params[name], verbose=False, h=1e-5)\n",
    "        print('%s relative error: %.2e' % (name, rel_error(grad_num, grads[name])))"
   ]
  },
  {
   "cell_type": "markdown",
   "metadata": {},
   "source": [
    "<font size='4' color='red'>**Task 1.9: SGD+Momentum (5 points)**\n",
    "    \n",
    "Stochastic gradient descent with momentum is a widely used update rule that tends to make deep networks converge faster than vanilla stochastic gradient descent.\n",
    "\n",
    "Open the file `utils/optim.py` and read the documentation at the top of the file to make sure you understand the API. Implement the SGD+momentum update rule below and run the following to check your implementation. You should see errors less than 1e-8."
   ]
  },
  {
   "cell_type": "code",
   "execution_count": 122,
   "metadata": {},
   "outputs": [],
   "source": [
    "def sgd_momentum(w, dw, config=None):\n",
    "    \"\"\"\n",
    "    Performs stochastic gradient descent with momentum.\n",
    "\n",
    "    config format:\n",
    "    - learning_rate: Scalar learning rate.\n",
    "    - momentum: Scalar between 0 and 1 giving the momentum value.\n",
    "      Setting momentum = 0 reduces to sgd.\n",
    "    - velocity: A numpy array of the same shape as w and dw used to store a\n",
    "      moving average of the gradients.\n",
    "    \"\"\"\n",
    "    if config is None: config = {}\n",
    "    config.setdefault('learning_rate', 1e-2)\n",
    "    config.setdefault('momentum', 0.9)\n",
    "    v = config.get('velocity', np.zeros_like(w))\n",
    "\n",
    "    next_w = None\n",
    "    \n",
    "    # TODO: Implement the momentum update formula. Store the updated value in \n",
    "    # the next_w variable. You should also use and update the velocity v.\n",
    "    v = config['momentum']*v - config['learning_rate']*dw\n",
    "    \n",
    "    next_w = w + v\n",
    "    config['velocity'] = v\n",
    "\n",
    "    return next_w, config"
   ]
  },
  {
   "cell_type": "markdown",
   "metadata": {},
   "source": [
    "#### Notice: \n",
    "In this task, the momentum update formula is different from the one mentioned in class. I implement another fomular cited from piazza to get the matched answer. The link is: https://piazza.com/class/l1704onp9dx6n5?cid=111"
   ]
  },
  {
   "cell_type": "code",
   "execution_count": 123,
   "metadata": {},
   "outputs": [
    {
     "name": "stdout",
     "output_type": "stream",
     "text": [
      "next_w error:  8.882347033505819e-09\n",
      "velocity error:  4.269287743278663e-09\n"
     ]
    }
   ],
   "source": [
    "# Let's check your implementation\n",
    "N, D = 4, 5\n",
    "w = np.linspace(-0.4, 0.6, num=N*D).reshape(N, D)\n",
    "dw = np.linspace(-0.6, 0.4, num=N*D).reshape(N, D)\n",
    "v = np.linspace(0.6, 0.9, num=N*D).reshape(N, D)\n",
    "\n",
    "config = {'learning_rate': 1e-3, 'velocity': v}\n",
    "next_w, _ = sgd_momentum(w, dw, config=config)\n",
    "\n",
    "expected_next_w = np.asarray([\n",
    "  [ 0.1406,      0.20738947,  0.27417895,  0.34096842,  0.40775789],\n",
    "  [ 0.47454737,  0.54133684,  0.60812632,  0.67491579,  0.74170526],\n",
    "  [ 0.80849474,  0.87528421,  0.94207368,  1.00886316,  1.07565263],\n",
    "  [ 1.14244211,  1.20923158,  1.27602105,  1.34281053,  1.4096    ]])\n",
    "expected_velocity = np.asarray([\n",
    "  [ 0.5406,      0.55475789,  0.56891579, 0.58307368,  0.59723158],\n",
    "  [ 0.61138947,  0.62554737,  0.63970526,  0.65386316,  0.66802105],\n",
    "  [ 0.68217895,  0.69633684,  0.71049474,  0.72465263,  0.73881053],\n",
    "  [ 0.75296842,  0.76712632,  0.78128421,  0.79544211,  0.8096    ]])\n",
    "\n",
    "# Should see relative errors around e-8 or less\n",
    "print('next_w error: ', rel_error(next_w, expected_next_w))\n",
    "print('velocity error: ', rel_error(expected_velocity, config['velocity']))"
   ]
  },
  {
   "cell_type": "code",
   "execution_count": 344,
   "metadata": {
    "scrolled": false
   },
   "outputs": [
    {
     "name": "stdout",
     "output_type": "stream",
     "text": [
      "running with  sgd\n",
      "(Epoch 0 Batch 1) loss: 1.389960\n",
      "(Epoch 0 Batch 101) loss: 1.385686\n",
      "(Epoch 0 / 5) train acc: 25.088889; val_acc: 23.844444\n",
      "(Epoch 1 Batch 1) loss: 1.383227\n",
      "(Epoch 1 Batch 101) loss: 1.382757\n",
      "(Epoch 1 / 5) train acc: 26.608889; val_acc: 24.133333\n",
      "(Epoch 2 Batch 1) loss: 1.380078\n",
      "(Epoch 2 Batch 101) loss: 1.380489\n",
      "(Epoch 2 / 5) train acc: 30.446667; val_acc: 26.011111\n",
      "(Epoch 3 Batch 1) loss: 1.377332\n",
      "(Epoch 3 Batch 101) loss: 1.377748\n",
      "(Epoch 3 / 5) train acc: 35.093333; val_acc: 29.666667\n",
      "(Epoch 4 Batch 1) loss: 1.374489\n",
      "(Epoch 4 Batch 101) loss: 1.374129\n",
      "(Epoch 4 / 5) train acc: 38.582222; val_acc: 33.377778\n",
      "running with  sgd_momentum\n",
      "(Epoch 0 Batch 1) loss: 1.366662\n",
      "(Epoch 0 Batch 101) loss: 1.365053\n",
      "(Epoch 0 / 5) train acc: 40.986667; val_acc: 39.966667\n",
      "(Epoch 1 Batch 1) loss: 1.306781\n",
      "(Epoch 1 Batch 101) loss: 1.321004\n",
      "(Epoch 1 / 5) train acc: 51.337778; val_acc: 50.500000\n",
      "(Epoch 2 Batch 1) loss: 1.112662\n",
      "(Epoch 2 Batch 101) loss: 1.223287\n",
      "(Epoch 2 / 5) train acc: 56.733333; val_acc: 53.488889\n",
      "(Epoch 3 Batch 1) loss: 0.950554\n",
      "(Epoch 3 Batch 101) loss: 1.168425\n",
      "(Epoch 3 / 5) train acc: 60.213333; val_acc: 57.311111\n",
      "(Epoch 4 Batch 1) loss: 0.846914\n",
      "(Epoch 4 Batch 101) loss: 1.116084\n",
      "(Epoch 4 / 5) train acc: 62.144444; val_acc: 59.166667\n"
     ]
    },
    {
     "name": "stderr",
     "output_type": "stream",
     "text": [
      "<ipython-input-344-5aabf33f70fe>:37: MatplotlibDeprecationWarning: Adding an axes using the same arguments as a previous axes currently reuses the earlier instance.  In a future version, a new instance will always be created and returned.  Meanwhile, this warning can be suppressed, and the future behavior ensured, by passing a unique label to each axes instance.\n",
      "  plt.subplot(3, 1, 1)\n",
      "<ipython-input-344-5aabf33f70fe>:40: MatplotlibDeprecationWarning: Adding an axes using the same arguments as a previous axes currently reuses the earlier instance.  In a future version, a new instance will always be created and returned.  Meanwhile, this warning can be suppressed, and the future behavior ensured, by passing a unique label to each axes instance.\n",
      "  plt.subplot(3, 1, 2)\n",
      "<ipython-input-344-5aabf33f70fe>:43: MatplotlibDeprecationWarning: Adding an axes using the same arguments as a previous axes currently reuses the earlier instance.  In a future version, a new instance will always be created and returned.  Meanwhile, this warning can be suppressed, and the future behavior ensured, by passing a unique label to each axes instance.\n",
      "  plt.subplot(3, 1, 3)\n",
      "<ipython-input-344-5aabf33f70fe>:47: MatplotlibDeprecationWarning: Adding an axes using the same arguments as a previous axes currently reuses the earlier instance.  In a future version, a new instance will always be created and returned.  Meanwhile, this warning can be suppressed, and the future behavior ensured, by passing a unique label to each axes instance.\n",
      "  plt.subplot(3, 1, i)\n"
     ]
    },
    {
     "data": {
      "image/png": "[encoded data removed]",
      "text/plain": [
       "<Figure size 1080x1080 with 3 Axes>"
      ]
     },
     "metadata": {
      "needs_background": "light"
     },
     "output_type": "display_data"
    }
   ],
   "source": [
    "solvers = {}\n",
    "\n",
    "learning_rate = 1e-3# TODO: Tune learning rate\n",
    "momentum = 0.9# TODO: Tune value of momentum\n",
    "\n",
    "for update_rule in ['sgd','sgd_momentum']:\n",
    "    print('running with ', update_rule)\n",
    "    model = FullyConnectedNet([256, 128, 64], weight_scale=5e-2, reg=0.0)\n",
    "\n",
    "    solver = Solver(\n",
    "        model,\n",
    "        num_epochs=5, \n",
    "        batch_size=256,\n",
    "        update_rule=update_rule if update_rule == 'sgd' else sgd_momentum,\n",
    "        optim_config={'learning_rate': learning_rate,'momentum':momentum},\n",
    "        print_every=100,\n",
    "        dataset_directory=dataset_directory,\n",
    "        verbose=True\n",
    "    )\n",
    "\n",
    "    solvers[update_rule] = solver\n",
    "    solver.train()\n",
    "\n",
    "plt.subplot(3, 1, 1)\n",
    "plt.title('Training loss')\n",
    "plt.xlabel('Iteration')\n",
    "\n",
    "plt.subplot(3, 1, 2)\n",
    "plt.title('Training accuracy')\n",
    "plt.xlabel('Epoch')\n",
    "\n",
    "plt.subplot(3, 1, 3)\n",
    "plt.title('Validation accuracy')\n",
    "plt.xlabel('Epoch')\n",
    "\n",
    "for update_rule, solver in list(solvers.items()):\n",
    "    plt.subplot(3, 1, 1)\n",
    "    plt.plot(solver.loss_history, 'o', label=update_rule)\n",
    "\n",
    "    plt.subplot(3, 1, 2)\n",
    "    plt.plot(solver.train_acc_history, '-o', label=update_rule)\n",
    "\n",
    "    plt.subplot(3, 1, 3)\n",
    "    plt.plot(solver.val_acc_history, '-o', label=update_rule)\n",
    "  \n",
    "for i in [1, 2, 3]:\n",
    "    plt.subplot(3, 1, i)\n",
    "    plt.legend(loc='upper center', ncol=4)\n",
    "plt.gcf().set_size_inches(15, 15)\n",
    "plt.show()"
   ]
  },
  {
   "cell_type": "markdown",
   "metadata": {},
   "source": [
    "<font size='4' color='red'>**Task 1.10: Train a good model! (5 points)**\n",
    "    \n",
    "Train the best fully-connected model that you can on the dataset, storing your best model in the `best_model` variable. <font color='red'>We require you to get at least 55% accuracy on the validation set using a fully-connected net within 50 epochs.\n",
    "\n",
    "If you are careful it should be possible to get accuracies above 60%, but we don't require it for this part and won't assign extra credit for doing so. "
   ]
  },
  {
   "cell_type": "code",
   "execution_count": 345,
   "metadata": {
    "scrolled": false
   },
   "outputs": [
    {
     "name": "stdout",
     "output_type": "stream",
     "text": [
      "(Epoch 0 Batch 1) loss: 1.382601\n",
      "(Epoch 0 Batch 101) loss: 1.368477\n",
      "(Epoch 0 / 20) train acc: 43.375556; val_acc: 38.422222\n",
      "(Epoch 1 Batch 1) loss: 1.353818\n",
      "(Epoch 1 Batch 101) loss: 1.323609\n",
      "(Epoch 1 / 20) train acc: 49.880000; val_acc: 45.000000\n",
      "(Epoch 2 Batch 1) loss: 1.263482\n",
      "(Epoch 2 Batch 101) loss: 1.214537\n",
      "(Epoch 2 / 20) train acc: 55.873333; val_acc: 53.544444\n",
      "(Epoch 3 Batch 1) loss: 1.024125\n",
      "(Epoch 3 Batch 101) loss: 1.217197\n",
      "(Epoch 3 / 20) train acc: 58.853333; val_acc: 54.811111\n",
      "(Epoch 4 Batch 1) loss: 0.926713\n",
      "(Epoch 4 Batch 101) loss: 1.119541\n",
      "(Epoch 4 / 20) train acc: 59.853333; val_acc: 55.700000\n",
      "(Epoch 5 Batch 1) loss: 0.801682\n",
      "(Epoch 5 Batch 101) loss: 1.065447\n",
      "(Epoch 5 / 20) train acc: 60.462222; val_acc: 56.511111\n",
      "(Epoch 6 Batch 1) loss: 0.756074\n",
      "(Epoch 6 Batch 101) loss: 1.031719\n",
      "(Epoch 6 / 20) train acc: 61.353333; val_acc: 57.377778\n",
      "(Epoch 7 Batch 1) loss: 0.754533\n",
      "(Epoch 7 Batch 101) loss: 1.016758\n",
      "(Epoch 7 / 20) train acc: 62.442222; val_acc: 58.777778\n",
      "(Epoch 8 Batch 1) loss: 0.785451\n",
      "(Epoch 8 Batch 101) loss: 1.024918\n",
      "(Epoch 8 / 20) train acc: 62.735556; val_acc: 58.422222\n",
      "(Epoch 9 Batch 1) loss: 0.844625\n",
      "(Epoch 9 Batch 101) loss: 1.028286\n",
      "(Epoch 9 / 20) train acc: 62.093333; val_acc: 57.566667\n",
      "(Epoch 10 Batch 1) loss: 0.906949\n",
      "(Epoch 10 Batch 101) loss: 1.025449\n",
      "(Epoch 10 / 20) train acc: 61.788889; val_acc: 57.266667\n",
      "(Epoch 11 Batch 1) loss: 0.943158\n",
      "(Epoch 11 Batch 101) loss: 1.018501\n",
      "(Epoch 11 / 20) train acc: 61.726667; val_acc: 57.344444\n",
      "(Epoch 12 Batch 1) loss: 0.950068\n",
      "(Epoch 12 Batch 101) loss: 1.009122\n",
      "(Epoch 12 / 20) train acc: 62.000000; val_acc: 57.944444\n",
      "(Epoch 13 Batch 1) loss: 0.941261\n",
      "(Epoch 13 Batch 101) loss: 0.998296\n",
      "(Epoch 13 / 20) train acc: 62.464444; val_acc: 58.922222\n",
      "(Epoch 14 Batch 1) loss: 0.924203\n",
      "(Epoch 14 Batch 101) loss: 0.989199\n",
      "(Epoch 14 / 20) train acc: 63.004444; val_acc: 60.100000\n",
      "(Epoch 15 Batch 1) loss: 0.908587\n",
      "(Epoch 15 Batch 101) loss: 0.980245\n",
      "(Epoch 15 / 20) train acc: 63.513333; val_acc: 61.033333\n",
      "(Epoch 16 Batch 1) loss: 0.890865\n",
      "(Epoch 16 Batch 101) loss: 0.972437\n",
      "(Epoch 16 / 20) train acc: 63.817778; val_acc: 61.866667\n",
      "(Epoch 17 Batch 1) loss: 0.877817\n",
      "(Epoch 17 Batch 101) loss: 0.963056\n",
      "(Epoch 17 / 20) train acc: 64.171111; val_acc: 62.588889\n",
      "(Epoch 18 Batch 1) loss: 0.862684\n",
      "(Epoch 18 Batch 101) loss: 0.956239\n",
      "(Epoch 18 / 20) train acc: 64.435556; val_acc: 63.111111\n",
      "(Epoch 19 Batch 1) loss: 0.848694\n",
      "(Epoch 19 Batch 101) loss: 0.950080\n",
      "(Epoch 19 / 20) train acc: 64.695556; val_acc: 63.733333\n"
     ]
    },
    {
     "data": {
      "text/plain": [
       "67.27777777777779"
      ]
     },
     "execution_count": 345,
     "metadata": {},
     "output_type": "execute_result"
    }
   ],
   "source": [
    "best_model = None\n",
    "learning_rate = 1e-3# TODO: Tune learning rate\n",
    "lr_decay = 0.1# TODO: Tune learning decay\n",
    "momentum = 0.9# TODO: Tune momentum\n",
    "\n",
    "model = FullyConnectedNet([100, 100, 100], weight_scale=5e-2)\n",
    "\n",
    "solver = Solver(\n",
    "    model,\n",
    "    print_every=100, \n",
    "    num_epochs=20, \n",
    "    batch_size=batch_size,\n",
    "    update_rule=sgd_momentum,\n",
    "    optim_config={'learning_rate': learning_rate, 'lr_decay': lr_decay, 'momentum': momentum},\n",
    "    dataset_directory=dataset_directory,\n",
    "    verbose=True\n",
    ")\n",
    "solver.train()\n",
    "\n",
    "best_model = model\n",
    "best_model.params.update(solver.best_params)\n",
    "\n",
    "# Check accuracy on test data\n",
    "check_accuracy(best_model, Data(batch_size=batch_size, dataset_directory=dataset_directory).load_test_data(), 'loss')"
   ]
  },
  {
   "cell_type": "markdown",
   "metadata": {},
   "source": [
    "## Part 2: Convolutional Neural Network (30 points)\n",
    "\n",
    "In this second part of the assignment, you need to use Pytorch to build a Convolution Neural Network with 2 Convolution layers and 2 Fully Connected layers. For each convolution layer, we add a pooling layer afterwards for both tasks and a batch normalization layer for Task 2.3. The detailed neural network structure is given for each task."
   ]
  },
  {
   "cell_type": "code",
   "execution_count": 320,
   "metadata": {},
   "outputs": [],
   "source": [
    "import torch\n",
    "import torch.optim as optim\n",
    "import torch.nn as nn\n",
    "import torch.nn.functional as F"
   ]
  },
  {
   "cell_type": "markdown",
   "metadata": {},
   "source": [
    "<font size='4' color='red'>**Task 2.1: CNN without batch normalization layers (10 points)**\n",
    "\n",
    "### Network Architecture\n",
    "<img src=\"images/CNN-WithoutBN.jpg\" width=900 height=900 />"
   ]
  },
  {
   "cell_type": "code",
   "execution_count": 331,
   "metadata": {},
   "outputs": [],
   "source": [
    "class CNNWithoutBatchNorm(nn.Module):\n",
    "    def __init__(self):\n",
    "        super().__init__()\n",
    "        self.conv1 = nn.Conv2d(1,6,3)\n",
    "        self.pool1 = nn.MaxPool2d(2,2) \n",
    "        \n",
    "        self.conv2 = nn.Conv2d(6,16,5) \n",
    "        self.pool2 = nn.MaxPool2d(2,2)\n",
    "        \n",
    "        self.fc1 = nn.Linear(16*6*27,256)\n",
    "        self.fc2 = nn.Linear(256,4)\n",
    "\n",
    "    def forward(self, x):\n",
    "        x = F.relu(self.conv1(x))  # input(1,36,120)  output(6,34,118)  \n",
    "        x = self.pool1(x)          # output(6, 17, 59)  \n",
    "        x = F.relu(self.conv2(x))  # output(16, 13, 55)  \n",
    "        x = self.pool2(x)          # output(16, 6, 27) \n",
    "        x = x.view(-1,16*6*27)       \n",
    "\n",
    "        x = F.relu(self.fc1(x))     \n",
    "        x = self.fc2(x)       \n",
    "        \n",
    "        return x"
   ]
  },
  {
   "cell_type": "markdown",
   "metadata": {},
   "source": [
    "<font size='4' color='red'>**Task 2.2: Train CNN without Batch norm(5 points)**\n",
    "\n",
    "\n",
    "As a sanity check for your model, train your model. Observe how it performs in comparison with the previous networks."
   ]
  },
  {
   "cell_type": "code",
   "execution_count": 332,
   "metadata": {},
   "outputs": [
    {
     "name": "stdout",
     "output_type": "stream",
     "text": [
      "[1,   175] loss: 0.819\n",
      "[2,   175] loss: 0.646\n",
      "[3,   175] loss: 0.635\n",
      "[4,   175] loss: 0.580\n",
      "[5,   175] loss: 0.560\n",
      "[6,   175] loss: 0.526\n",
      "[7,   175] loss: 0.508\n",
      "[8,   175] loss: 0.482\n",
      "[9,   175] loss: 0.466\n",
      "[10,   175] loss: 0.458\n"
     ]
    },
    {
     "name": "stderr",
     "output_type": "stream",
     "text": [
      "<ipython-input-69-ba0def6a1605>:20: UserWarning: To copy construct from a tensor, it is recommended to use sourceTensor.clone().detach() or sourceTensor.clone().detach().requires_grad_(True), rather than torch.tensor(sourceTensor).\n",
      "  scores = model(torch.tensor(inputs)).detach().numpy()\n"
     ]
    },
    {
     "name": "stdout",
     "output_type": "stream",
     "text": [
      "Finished Training with test acc:  61.044444444444444\n"
     ]
    }
   ],
   "source": [
    "cnnWithoutBatchNormNet = CNNWithoutBatchNorm()\n",
    "criterion = nn.CrossEntropyLoss()\n",
    "optimizer = optim.SGD(cnnWithoutBatchNormNet.parameters(), lr=0.01, momentum=0.9)\n",
    "scheduler = optim.lr_scheduler.StepLR(optimizer, step_size=2, gamma=0.9)\n",
    "\n",
    "for epoch in range(10):  # loop over the dataset multiple times\n",
    "    trainloader = Data(batch_size=batch_size, dataset_directory=dataset_directory).load_train_data()\n",
    "    running_loss = 0.0\n",
    "    for i, (inputs, labels) in enumerate(trainloader, 0):\n",
    "        # get the inputs; data is a list of [inputs, labels]\n",
    "        \n",
    "        inputs, labels = torch.tensor(inputs).unsqueeze(1).float(), torch.tensor(labels)\n",
    "        # zero the parameter gradients\n",
    "        optimizer.zero_grad()\n",
    "\n",
    "        # forward + backward + optimize\n",
    "        outputs = cnnWithoutBatchNormNet(inputs)\n",
    "        loss = criterion(outputs, labels)\n",
    "        loss.backward()\n",
    "        optimizer.step()\n",
    "\n",
    "        # print statistics\n",
    "        running_loss += loss.item()\n",
    "        batch_size = len(labels)\n",
    "    print(f'[{epoch + 1}, {i + 1:5d}] loss: {running_loss / batch_size:.3f}')\n",
    "    running_loss = 0.0\n",
    "    scheduler.step()\n",
    "\n",
    "test_acc = check_accuracy(cnnWithoutBatchNormNet, Data(batch_size=batch_size, dataset_directory=dataset_directory).load_test_data(), 'forward')\n",
    "print('Finished Training with test acc: ', test_acc)"
   ]
  },
  {
   "cell_type": "markdown",
   "metadata": {},
   "source": [
    "<font size='4' color='red'>**Task 2.3: CNN using batch normalization layers (5 points)**\n",
    "\n",
    "### Network Architecture\n",
    "<img src=\"images/CNN-WithBN.jpg\" width=900 height=900 />"
   ]
  },
  {
   "cell_type": "code",
   "execution_count": 337,
   "metadata": {},
   "outputs": [],
   "source": [
    "class CNNWithBatchNorm(nn.Module):\n",
    "    def __init__(self):\n",
    "        super().__init__()\n",
    "        self.conv1 = nn.Conv2d(1,6,3)\n",
    "        self.pool1 = nn.MaxPool2d(2,2) \n",
    "        self.bn1 = nn.BatchNorm2d(6)\n",
    "        \n",
    "        self.conv2 = nn.Conv2d(6,16,5) \n",
    "        self.pool2 = nn.MaxPool2d(2,2)\n",
    "        self.bn2 = nn.BatchNorm2d(16)\n",
    "        \n",
    "        self.fc1 = nn.Linear(16*6*27,256)\n",
    "        self.fc2 = nn.Linear(256,4)\n",
    "\n",
    "    def forward(self, x):\n",
    "        x = F.relu(self.conv1(x))  # input(1,36,120)  output(6,34,118)  \n",
    "        x = self.pool1(x)          # output(6, 17, 59)\n",
    "        x = self.bn1(x)\n",
    "        \n",
    "        x = F.relu(self.conv2(x))  # output(16, 13, 55)  \n",
    "        x = self.pool2(x)          # output(16, 6, 27) \n",
    "        x = self.bn2(x)\n",
    "        \n",
    "        x = x.view(-1,16*6*27)       \n",
    "\n",
    "        x = F.relu(self.fc1(x))     \n",
    "        x = self.fc2(x)       \n",
    "        \n",
    "        return x"
   ]
  },
  {
   "cell_type": "markdown",
   "metadata": {},
   "source": [
    "<font size='4' color='red'>**Task 2.4: Train CNN with Batch norm(5 points)**\n",
    "\n",
    "As a sanity check for your model, train your model. Observe how it performs in comparison with the previous networks."
   ]
  },
  {
   "cell_type": "code",
   "execution_count": 338,
   "metadata": {},
   "outputs": [
    {
     "name": "stdout",
     "output_type": "stream",
     "text": [
      "[1,   175] loss: 0.596\n",
      "[2,   175] loss: 0.558\n",
      "[3,   175] loss: 0.500\n",
      "[4,   175] loss: 0.451\n",
      "[5,   175] loss: 0.424\n",
      "[6,   175] loss: 0.405\n",
      "[7,   175] loss: 0.392\n",
      "[8,   175] loss: 0.386\n",
      "[9,   175] loss: 0.365\n",
      "[10,   175] loss: 0.333\n"
     ]
    },
    {
     "name": "stderr",
     "output_type": "stream",
     "text": [
      "<ipython-input-69-ba0def6a1605>:20: UserWarning: To copy construct from a tensor, it is recommended to use sourceTensor.clone().detach() or sourceTensor.clone().detach().requires_grad_(True), rather than torch.tensor(sourceTensor).\n",
      "  scores = model(torch.tensor(inputs)).detach().numpy()\n"
     ]
    },
    {
     "name": "stdout",
     "output_type": "stream",
     "text": [
      "Finished Training with test acc:  76.0\n"
     ]
    }
   ],
   "source": [
    "cnnWithBatchNormNet = CNNWithBatchNorm()\n",
    "criterion = nn.CrossEntropyLoss()\n",
    "optimizer = optim.SGD(cnnWithBatchNormNet.parameters(), lr=0.01, momentum=0.9)\n",
    "scheduler = optim.lr_scheduler.StepLR(optimizer, step_size=2, gamma=0.9)\n",
    "\n",
    "for epoch in range(10):  # loop over the dataset multiple times\n",
    "    trainloader = Data(batch_size=batch_size, dataset_directory=dataset_directory).load_train_data()\n",
    "    running_loss = 0.0\n",
    "    for i, (inputs, labels) in enumerate(trainloader, 0):\n",
    "        # get the inputs; data is a list of [inputs, labels]\n",
    "        \n",
    "        inputs, labels = torch.tensor(inputs).unsqueeze(1).float(), torch.tensor(labels)\n",
    "        # zero the parameter gradients\n",
    "        optimizer.zero_grad()\n",
    "\n",
    "        # forward + backward + optimize\n",
    "        outputs = cnnWithBatchNormNet(inputs)\n",
    "        loss = criterion(outputs, labels)\n",
    "        loss.backward()\n",
    "        optimizer.step()\n",
    "\n",
    "        # print statistics\n",
    "        running_loss += loss.item()\n",
    "        batch_size = len(labels)\n",
    "    print(f'[{epoch + 1}, {i + 1:5d}] loss: {running_loss / batch_size:.3f}')\n",
    "    running_loss = 0.0\n",
    "    scheduler.step()\n",
    "\n",
    "test_acc = check_accuracy(cnnWithBatchNormNet, Data(batch_size=batch_size, dataset_directory=dataset_directory).load_test_data(), 'forward')\n",
    "print('Finished Training with test acc: ', test_acc)"
   ]
  },
  {
   "cell_type": "markdown",
   "metadata": {},
   "source": [
    "<font size='4' color='red'>**Task 2.4: Visualize some of the convolutional filters (5 points)**"
   ]
  },
  {
   "cell_type": "code",
   "execution_count": 346,
   "metadata": {},
   "outputs": [
    {
     "data": {
      "image/png": "[encoded data removed]",
      "text/plain": [
       "<Figure size 360x360 with 1 Axes>"
      ]
     },
     "metadata": {
      "needs_background": "light"
     },
     "output_type": "display_data"
    }
   ],
   "source": [
    "# # You can visualize the first-layer convolutional filters from the trained network by running the following:\n",
    "from utils.vis_utils import visualize_grid\n",
    "\n",
    "conv1_weights = cnnWithBatchNormNet.conv1.weight.data.cpu().numpy()# TODO: weights of the conv1 layer\n",
    "\n",
    "grid = visualize_grid(conv1_weights)\n",
    "plt.imshow(grid.astype('uint8'))\n",
    "plt.axis('off')\n",
    "plt.gcf().set_size_inches(5, 5)\n",
    "plt.show()"
   ]
  },
  {
   "cell_type": "markdown",
   "metadata": {},
   "source": [
    "## Part 3: What did you observe from the previous experiments? "
   ]
  },
  {
   "cell_type": "markdown",
   "metadata": {},
   "source": [
    "<font size='4' color='red'>**Task 3.1: Calculate the number of learnable parameters in both the CNN and the Fully Connected Network of Task 1.10 and explain which is better and why? (5 points)**\n",
    "    \n",
    "    params in CNN without batch norm = 667,052 = (1*3*3*6+6)+0+(6*5*5*16+16)+0+(16*6*27*256)+256*4\n",
    "    \n",
    "    params in CNN with batch norm = 667,052\n",
    "    \n",
    "    params in FCN = 452,400 = 36*120*100 + 100*100 + 100*100 + 100*4\n",
    "    \n",
    "    Obviously, CNN with batch norm has better performance than the others have. By checking the number of learnable parameters in these two types of neural networks. "
   ]
  },
  {
   "cell_type": "markdown",
   "metadata": {},
   "source": [
    "<font size='4' color='red'>**Task 3.2: Compare SGD with SGD+momentum and report your observations? Why does one work better than the other? (5 points)**\n",
    "    \n",
    "    Compare both optimization methods, SGD with momentum performs better than SGD with no momentum in both accuracy and speed of loss decline. The momentum adds an additional hyperparameter that controls the amount of historical momentum to include in the update equation to accelerate the optimization process. It reduces the chance of bouncing around a specific search space, such as a plateaus space, when searches the direction of gradient descent.   "
   ]
  },
  {
   "cell_type": "markdown",
   "metadata": {},
   "source": [
    "## Part 4: Improving the CNN (Extra credit: 5 points)"
   ]
  },
  {
   "cell_type": "code",
   "execution_count": null,
   "metadata": {},
   "outputs": [],
   "source": [
    "# Improve the CNN trained in the previous step\n",
    "# You can use one or more of the following techniques or something else\n",
    "# 1. Change the architecture: Increase the depth, change the kernel sizes etc\n",
    "# 2. Fine tune the hyper parameters\n",
    "# 3. Use a better optimizer"
   ]
  }
 ],
 "metadata": {
  "kernelspec": {
   "display_name": "Python 3",
   "language": "python",
   "name": "python3"
  },
  "language_info": {
   "codemirror_mode": {
    "name": "ipython",
    "version": 3
   },
   "file_extension": ".py",
   "mimetype": "text/x-python",
   "name": "python",
   "nbconvert_exporter": "python",
   "pygments_lexer": "ipython3",
   "version": "3.8.8"
  }
 },
 "nbformat": 4,
 "nbformat_minor": 2
}
